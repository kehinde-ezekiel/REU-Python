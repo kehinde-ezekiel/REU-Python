{
 "cells": [
  {
   "cell_type": "code",
   "execution_count": null,
   "metadata": {},
   "outputs": [],
   "source": []
  },
  {
   "cell_type": "code",
   "execution_count": 2,
   "metadata": {},
   "outputs": [],
   "source": [
    "# Create your data using Pandas from the one-way commuting distance data\r\n",
    "import pandas as pd\r\n",
    "data = pd.Series([13,47,10,3,16,20,17,40,4,2,7,25,8,21,19,15,3,17,14,6,12,45,1,8,4,16,11,18,23,12,6,2,14,13,7,15,46,12,9,18,34,13,41,28,36,17,24,27,29,9,14,26,10,24,37,31,8,16,12,16])"
   ]
  },
  {
   "cell_type": "code",
   "execution_count": 3,
   "metadata": {},
   "outputs": [
    {
     "name": "stdout",
     "output_type": "stream",
     "text": [
      "Maximum value= 47 and Minimum value = 1\n"
     ]
    }
   ],
   "source": [
    "# Let find the maximum and minimun value from our data\r\n",
    "max_vale = data.max()\r\n",
    "min_vale = data.min()\r\n",
    "print('Maximum value=', max_vale, 'and Minimum value =', min_vale)"
   ]
  },
  {
   "cell_type": "code",
   "execution_count": 4,
   "metadata": {},
   "outputs": [
    {
     "data": {
      "text/plain": [
       "12    4\n",
       "16    4\n",
       "13    3\n",
       "17    3\n",
       "8     3\n",
       "14    3\n",
       "2     2\n",
       "18    2\n",
       "15    2\n",
       "10    2\n",
       "9     2\n",
       "7     2\n",
       "6     2\n",
       "4     2\n",
       "3     2\n",
       "24    2\n",
       "34    1\n",
       "40    1\n",
       "36    1\n",
       "37    1\n",
       "1     1\n",
       "41    1\n",
       "45    1\n",
       "29    1\n",
       "46    1\n",
       "31    1\n",
       "20    1\n",
       "28    1\n",
       "27    1\n",
       "26    1\n",
       "25    1\n",
       "23    1\n",
       "21    1\n",
       "19    1\n",
       "11    1\n",
       "47    1\n",
       "dtype: int64"
      ]
     },
     "execution_count": 4,
     "metadata": {},
     "output_type": "execute_result"
    }
   ],
   "source": [
    "# Find the frequencies of each values in the data\r\n",
    "data.value_counts()"
   ]
  },
  {
   "cell_type": "code",
   "execution_count": 5,
   "metadata": {},
   "outputs": [
    {
     "data": {
      "text/plain": [
       "(0.953, 8.667]      14\n",
       "(8.667, 16.333]     21\n",
       "(16.333, 24.0]      11\n",
       "(24.0, 31.667]       6\n",
       "(31.667, 39.333]     3\n",
       "(39.333, 47.0]       5\n",
       "dtype: int64"
      ]
     },
     "execution_count": 5,
     "metadata": {},
     "output_type": "execute_result"
    }
   ],
   "source": [
    "# Count the frequency into interval or classes.\r\n",
    "frequency_classes = data.value_counts(sort=False,bins=6)\r\n",
    "frequency_classes"
   ]
  },
  {
   "cell_type": "code",
   "execution_count": 6,
   "metadata": {},
   "outputs": [
    {
     "data": {
      "text/plain": [
       "(0.953, 8.667]      0.233333\n",
       "(8.667, 16.333]     0.350000\n",
       "(16.333, 24.0]      0.183333\n",
       "(24.0, 31.667]      0.100000\n",
       "(31.667, 39.333]    0.050000\n",
       "(39.333, 47.0]      0.083333\n",
       "dtype: float64"
      ]
     },
     "execution_count": 6,
     "metadata": {},
     "output_type": "execute_result"
    }
   ],
   "source": [
    "# Find the relative frequency\r\n",
    "relative_frequency = frequency_classes/len(data)\r\n",
    "relative_frequency"
   ]
  },
  {
   "cell_type": "code",
   "execution_count": 7,
   "metadata": {},
   "outputs": [
    {
     "data": {
      "text/plain": [
       "<AxesSubplot:>"
      ]
     },
     "execution_count": 7,
     "metadata": {},
     "output_type": "execute_result"
    },
    {
     "data": {
      "image/png": "[encoded data removed]",
      "text/plain": [
       "<Figure size 432x288 with 1 Axes>"
      ]
     },
     "metadata": {
      "needs_background": "light"
     },
     "output_type": "display_data"
    }
   ],
   "source": [
    "# Plot the histograms for the data\r\n",
    "data.hist()"
   ]
  },
  {
   "cell_type": "code",
   "execution_count": 8,
   "metadata": {},
   "outputs": [
    {
     "data": {
      "text/plain": [
       "0    12\n",
       "1    16\n",
       "dtype: int64"
      ]
     },
     "execution_count": 8,
     "metadata": {},
     "output_type": "execute_result"
    }
   ],
   "source": [
    "# Computing the MODE\r\n",
    "data.mode()"
   ]
  },
  {
   "cell_type": "code",
   "execution_count": 9,
   "metadata": {},
   "outputs": [
    {
     "data": {
      "text/plain": [
       "15.0"
      ]
     },
     "execution_count": 9,
     "metadata": {},
     "output_type": "execute_result"
    }
   ],
   "source": [
    "# Computing the MEDIAN\r\n",
    "data.median()"
   ]
  },
  {
   "cell_type": "code",
   "execution_count": 10,
   "metadata": {},
   "outputs": [
    {
     "data": {
      "text/plain": [
       "17.516666666666666"
      ]
     },
     "execution_count": 10,
     "metadata": {},
     "output_type": "execute_result"
    }
   ],
   "source": [
    "# Computing the MEAN\r\n",
    "data.mean()"
   ]
  },
  {
   "cell_type": "code",
   "execution_count": 11,
   "metadata": {},
   "outputs": [
    {
     "data": {
      "text/plain": [
       "11.72060573818847"
      ]
     },
     "execution_count": 11,
     "metadata": {},
     "output_type": "execute_result"
    }
   ],
   "source": [
    "# Computing the STANDARD DEVIATION\r\n",
    "data.std()"
   ]
  },
  {
   "cell_type": "code",
   "execution_count": null,
   "metadata": {},
   "outputs": [],
   "source": []
  },
  {
   "cell_type": "code",
   "execution_count": null,
   "metadata": {},
   "outputs": [],
   "source": []
  }
 ],
 "metadata": {
  "interpreter": {
   "hash": "e96f3d9d46cdefc766ed1dad262ce64f87c4240b59b297a62a5fcd113f6a3a34"
  },
  "kernelspec": {
   "display_name": "Python 3.9.5 64-bit",
   "name": "python3"
  },
  "language_info": {
   "codemirror_mode": {
    "name": "ipython",
    "version": 3
   },
   "file_extension": ".py",
   "mimetype": "text/x-python",
   "name": "python",
   "nbconvert_exporter": "python",
   "pygments_lexer": "ipython3",
   "version": "3.9.5"
  },
  "orig_nbformat": 4
 },
 "nbformat": 4,
 "nbformat_minor": 2
}