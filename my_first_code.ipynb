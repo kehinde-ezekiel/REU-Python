{
 "cells": [
  {
   "cell_type": "code",
   "execution_count": 4,
   "metadata": {},
   "outputs": [
    {
     "name": "stdout",
     "output_type": "stream",
     "text": [
      "1\n",
      "<class 'int'>\n",
      "100000000000000000000000000000000000000000000000001\n",
      "<class 'int'>\n"
     ]
    }
   ],
   "source": [
    "#integers\r\n",
    "x=1\r\n",
    "print (x)\r\n",
    "print (type(x))\r\n",
    "x = 100000000000000000000000000000000000000000000000001\r\n",
    "print (x)\r\n",
    "print (type(x))\r\n"
   ]
  }
 ],
 "metadata": {
  "kernelspec": {
   "display_name": "Python 3.9.5 64-bit",
   "name": "python395jvsc74a57bd0e96f3d9d46cdefc766ed1dad262ce64f87c4240b59b297a62a5fcd113f6a3a34"
  },
  "language_info": {
   "codemirror_mode": {
    "name": "ipython",
    "version": 3
   },
   "file_extension": ".py",
   "mimetype": "text/x-python",
   "name": "python",
   "nbconvert_exporter": "python",
   "pygments_lexer": "ipython3",
   "version": "3.9.5"
  },
  "metadata": {
   "interpreter": {
    "hash": "e96f3d9d46cdefc766ed1dad262ce64f87c4240b59b297a62a5fcd113f6a3a34"
   }
  },
  "orig_nbformat": 2
 },
 "nbformat": 4,
 "nbformat_minor": 2
}