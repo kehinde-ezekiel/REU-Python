{
 "cells": [
  {
   "cell_type": "code",
   "execution_count": 2,
   "metadata": {},
   "outputs": [
    {
     "name": "stdout",
     "output_type": "stream",
     "text": [
      "1\n",
      "<class 'int'>\n",
      "100000000000000000000000000000000000000000000000001\n",
      "<class 'int'>\n"
     ]
    }
   ],
   "source": [
    "#integers\r\n",
    "x=1\r\n",
    "print(x)\r\n",
    "print(type(x))\r\n",
    "x = 100000000000000000000000000000000000000000000000001\r\n",
    "print(x)\r\n",
    "print(type(x))\r\n"
   ]
  },
  {
   "cell_type": "code",
   "execution_count": 3,
   "metadata": {},
   "outputs": [
    {
     "name": "stdout",
     "output_type": "stream",
     "text": [
      "<class 'int'>\n",
      "9 5.5\n",
      "<class 'float'>\n",
      "14.5\n",
      "14\n",
      "14.5\n"
     ]
    }
   ],
   "source": [
    "x = 9\r\n",
    "y = 5.5\r\n",
    "\r\n",
    "print(type(x))\r\n",
    "\r\n",
    "print(x,y)\r\n",
    "print(type(y))\r\n",
    "print(float(x+y))\r\n",
    "sum=x+y\r\n",
    "print(int(sum))\r\n",
    "print(sum)"
   ]
  },
  {
   "cell_type": "code",
   "execution_count": 4,
   "metadata": {},
   "outputs": [
    {
     "name": "stdout",
     "output_type": "stream",
     "text": [
      "<class 'str'>\n",
      "Kehinde\n",
      "You have an unique name Kehinde\n"
     ]
    }
   ],
   "source": [
    "name = (input('Please enter your name:'))\r\n",
    "print(type(name))\r\n",
    "print(name)\r\n",
    "print('You have an unique name '+ name)"
   ]
  },
  {
   "cell_type": "code",
   "execution_count": 5,
   "metadata": {},
   "outputs": [
    {
     "name": "stdout",
     "output_type": "stream",
     "text": [
      "22\n",
      "<class 'int'>\n"
     ]
    }
   ],
   "source": [
    "age = int(input('Plase enter your age: '))\r\n",
    "print(age)\r\n",
    "print(type(age))"
   ]
  },
  {
   "cell_type": "code",
   "execution_count": 6,
   "metadata": {},
   "outputs": [
    {
     "name": "stdout",
     "output_type": "stream",
     "text": [
      "1.83\n",
      "<class 'float'>\n"
     ]
    }
   ],
   "source": [
    "# Floating Points \r\n",
    "exchange_rate = 1.83\r\n",
    "print(exchange_rate)\r\n",
    "print(type(exchange_rate))"
   ]
  },
  {
   "cell_type": "code",
   "execution_count": 7,
   "metadata": {},
   "outputs": [
    {
     "name": "stdout",
     "output_type": "stream",
     "text": [
      "int value as a float: 1.0\n",
      "<class 'float'>\n",
      "string value as a float: 1.5\n",
      "<class 'float'>\n"
     ]
    }
   ],
   "source": [
    "# Converting to Floats\r\n",
    "int_value = 1\r\n",
    "string_value = '1.5'\r\n",
    "float_value = float(int_value)\r\n",
    "print('int value as a float:', float_value)\r\n",
    "print(type(float_value))\r\n",
    "float_value = float(string_value)\r\n",
    "print('string value as a float:', float_value)\r\n",
    "print(type(float_value))"
   ]
  },
  {
   "cell_type": "code",
   "execution_count": 8,
   "metadata": {},
   "outputs": [
    {
     "name": "stdout",
     "output_type": "stream",
     "text": [
      "1.83\n",
      "<class 'float'>\n"
     ]
    }
   ],
   "source": [
    "# Converting an Input String into a Floating Point Number\r\n",
    "exchange_rate = float(input('Please enter the exchange rate to use:'))\r\n",
    "print(exchange_rate)\r\n",
    "print(type(exchange_rate))"
   ]
  },
  {
   "cell_type": "code",
   "execution_count": 9,
   "metadata": {},
   "outputs": [
    {
     "name": "stdout",
     "output_type": "stream",
     "text": [
      "True\n",
      "False\n",
      "<class 'bool'>\n"
     ]
    }
   ],
   "source": [
    "# Boolean value\r\n",
    "all_ok = True\r\n",
    "print(all_ok)\r\n",
    "all_ok = False\r\n",
    "print(all_ok)\r\n",
    "print(type(all_ok))"
   ]
  },
  {
   "cell_type": "code",
   "execution_count": 10,
   "metadata": {},
   "outputs": [
    {
     "name": "stdout",
     "output_type": "stream",
     "text": [
      "False\n",
      "<class 'bool'>\n"
     ]
    }
   ],
   "source": [
    "# Convert string into Boolean\r\n",
    "status = bool(input('Ok to proceed:'))\r\n",
    "print(status)\r\n",
    "print(type(status))"
   ]
  },
  {
   "cell_type": "code",
   "execution_count": 11,
   "metadata": {},
   "outputs": [
    {
     "data": {
      "text/plain": [
       "int"
      ]
     },
     "execution_count": 11,
     "metadata": {},
     "output_type": "execute_result"
    }
   ],
   "source": [
    "#Assignment\r\n",
    "a=7\r\n",
    "b=5\r\n",
    "type(a)\r\n"
   ]
  },
  {
   "cell_type": "code",
   "execution_count": 12,
   "metadata": {},
   "outputs": [
    {
     "name": "stdout",
     "output_type": "stream",
     "text": [
      "teenager\n"
     ]
    }
   ],
   "source": [
    "age = 15\r\n",
    "status = None\r\n",
    "if (age >12) and age <20:\r\n",
    "    status = 'teenager'\r\n",
    "else:\r\n",
    "    status = 'not teenager'\r\n",
    "print (status)"
   ]
  },
  {
   "cell_type": "code",
   "execution_count": 13,
   "metadata": {},
   "outputs": [
    {
     "name": "stdout",
     "output_type": "stream",
     "text": [
      "it is freezing\n",
      "Put on boots\n",
      "Time for Hot chocolate\n",
      "Bye\n"
     ]
    }
   ],
   "source": [
    "# Nesting If Statement\r\n",
    "snowing = True\r\n",
    "temp = -7\r\n",
    "if temp < 0:\r\n",
    "    print('it is freezing')\r\n",
    "    if snowing:\r\n",
    "        print('Put on boots')\r\n",
    "        print('Time for Hot chocolate')\r\n",
    "print('Bye')"
   ]
  },
  {
   "cell_type": "code",
   "execution_count": 14,
   "metadata": {},
   "outputs": [
    {
     "name": "stdout",
     "output_type": "stream",
     "text": [
      "it is freezing\n",
      "Bye\n"
     ]
    }
   ],
   "source": [
    "# Nesting If Statement\r\n",
    "snowing = False\r\n",
    "temp = -7\r\n",
    "if temp < 0:\r\n",
    "    print('it is freezing')\r\n",
    "    if snowing:\r\n",
    "        print('Put on boots')\r\n",
    "        print('Time for Hot chocolate')\r\n",
    "print('Bye')"
   ]
  },
  {
   "cell_type": "code",
   "execution_count": 15,
   "metadata": {},
   "outputs": [
    {
     "name": "stdout",
     "output_type": "stream",
     "text": [
      "starting\n",
      "0 1 2 3 4 5 6 7 8 9 Done\n"
     ]
    }
   ],
   "source": [
    "count = 0\r\n",
    "print('starting')\r\n",
    "while count <10:\r\n",
    "    print(count, '', end='') #part of the while loop\r\n",
    "    count += 1 #also past of the while loop\r\n",
    "print('Done')"
   ]
  },
  {
   "cell_type": "code",
   "execution_count": 16,
   "metadata": {},
   "outputs": [
    {
     "name": "stdout",
     "output_type": "stream",
     "text": [
      "Print out values in a range\n",
      "0 1 2 3 4 5 6 7 8 9 Done\n"
     ]
    }
   ],
   "source": [
    "print('Print out values in a range')\r\n",
    "for i in range(0,10):\r\n",
    "    print(i,'',end='')\r\n",
    "print('Done')"
   ]
  },
  {
   "cell_type": "code",
   "execution_count": 17,
   "metadata": {},
   "outputs": [
    {
     "name": "stdout",
     "output_type": "stream",
     "text": [
      "Only print code if all iteraition completes\n",
      "0 1 2 3 4 Done\n"
     ]
    }
   ],
   "source": [
    "\r\n",
    "#Break loop statements\r\n",
    "print(\"Only print code if all iteraition completes\")\r\n",
    "num = int(input('Enter a number to check for: '))\r\n",
    "for i in range(0,6):\r\n",
    "    if i ==num:\r\n",
    "        break\r\n",
    "    print(i,'',end='')\r\n",
    "print('Done')"
   ]
  },
  {
   "cell_type": "code",
   "execution_count": 18,
   "metadata": {},
   "outputs": [
    {
     "name": "stdout",
     "output_type": "stream",
     "text": [
      "0 \n",
      "\n",
      "hey its an even number\n",
      "we love even numbers\n",
      "1 \n",
      "\n",
      "2 \n",
      "\n",
      "hey its an even number\n",
      "we love even numbers\n",
      "3 \n",
      "\n",
      "4 \n",
      "\n",
      "hey its an even number\n",
      "we love even numbers\n",
      "5 \n",
      "\n",
      "6 \n",
      "\n",
      "hey its an even number\n",
      "we love even numbers\n",
      "7 \n",
      "\n",
      "8 \n",
      "\n",
      "hey its an even number\n",
      "we love even numbers\n",
      "9 \n",
      "\n",
      "Done\n"
     ]
    }
   ],
   "source": [
    "#Continue loop Statements\r\n",
    "for i in range(0,10):\r\n",
    "    print(i,'\\n')\r\n",
    "    if i%2==1:\r\n",
    "        continue\r\n",
    "    print('hey its an even number')\r\n",
    "    print('we love even numbers')\r\n",
    "print('Done')"
   ]
  },
  {
   "cell_type": "code",
   "execution_count": 19,
   "metadata": {},
   "outputs": [
    {
     "data": {
      "text/plain": [
       "['orange',\n",
       " 'apple',\n",
       " 'orange',\n",
       " 'pear',\n",
       " 'banana',\n",
       " 'kiwi',\n",
       " 'apple',\n",
       " 'banana',\n",
       " 'kiwi']"
      ]
     },
     "execution_count": 19,
     "metadata": {},
     "output_type": "execute_result"
    }
   ],
   "source": [
    "#Creating a list\r\n",
    "#apends insert another elemnt at the end of the list\r\n",
    "#insert add an item at a certain position in this case position to add orange\r\n",
    "fruits = ['orange','apple','pear','banana','kiwi','apple','banana']\r\n",
    "fruits.append('kiwi')\r\n",
    "fruits.insert(2,'orange')\r\n",
    "fruits"
   ]
  },
  {
   "cell_type": "code",
   "execution_count": 20,
   "metadata": {},
   "outputs": [
    {
     "data": {
      "text/plain": [
       "['orange', 'apple', 'orange', 'pear', 'banana', 'apple', 'banana', 'kiwi']"
      ]
     },
     "execution_count": 20,
     "metadata": {},
     "output_type": "execute_result"
    }
   ],
   "source": [
    "fruits.remove('kiwi')\r\n",
    "fruits"
   ]
  },
  {
   "cell_type": "code",
   "execution_count": 21,
   "metadata": {},
   "outputs": [
    {
     "data": {
      "text/plain": [
       "['orange', 'apple', 'orange', 'banana', 'apple', 'banana', 'kiwi']"
      ]
     },
     "execution_count": 21,
     "metadata": {},
     "output_type": "execute_result"
    }
   ],
   "source": [
    "fruits.pop(3)\r\n",
    "fruits"
   ]
  },
  {
   "cell_type": "code",
   "execution_count": 22,
   "metadata": {},
   "outputs": [
    {
     "data": {
      "text/plain": [
       "['kiwi', 'banana', 'apple', 'banana', 'orange', 'apple', 'orange']"
      ]
     },
     "execution_count": 22,
     "metadata": {},
     "output_type": "execute_result"
    }
   ],
   "source": [
    "fruits.reverse()\r\n",
    "fruits"
   ]
  },
  {
   "cell_type": "code",
   "execution_count": 23,
   "metadata": {},
   "outputs": [
    {
     "data": {
      "text/plain": [
       "{'jack': 4098, 'sape': 4139}"
      ]
     },
     "execution_count": 23,
     "metadata": {},
     "output_type": "execute_result"
    }
   ],
   "source": [
    "#Dictionaries\r\n",
    "tel = {'jack':4098, 'sape':4139}\r\n",
    "tel"
   ]
  },
  {
   "cell_type": "code",
   "execution_count": 24,
   "metadata": {},
   "outputs": [
    {
     "data": {
      "text/plain": [
       "{'jack': 4098, 'sape': 4139, 'guido': 4127}"
      ]
     },
     "execution_count": 24,
     "metadata": {},
     "output_type": "execute_result"
    }
   ],
   "source": [
    "\r\n",
    "tel['guido']=4127\r\n",
    "tel"
   ]
  },
  {
   "cell_type": "code",
   "execution_count": 25,
   "metadata": {},
   "outputs": [
    {
     "data": {
      "text/plain": [
       "{'jack': 4098, 'guido': 4127}"
      ]
     },
     "execution_count": 25,
     "metadata": {},
     "output_type": "execute_result"
    }
   ],
   "source": [
    "tel['jack']\r\n",
    "del tel['sape']\r\n",
    "tel"
   ]
  },
  {
   "cell_type": "code",
   "execution_count": 26,
   "metadata": {},
   "outputs": [
    {
     "data": {
      "text/plain": [
       "['jack', 'guido']"
      ]
     },
     "execution_count": 26,
     "metadata": {},
     "output_type": "execute_result"
    }
   ],
   "source": [
    "list(tel)"
   ]
  },
  {
   "cell_type": "code",
   "execution_count": 27,
   "metadata": {},
   "outputs": [
    {
     "data": {
      "text/plain": [
       "['guido', 'jack']"
      ]
     },
     "execution_count": 27,
     "metadata": {},
     "output_type": "execute_result"
    }
   ],
   "source": [
    "\r\n",
    "sorted(tel)"
   ]
  },
  {
   "cell_type": "code",
   "execution_count": 28,
   "metadata": {},
   "outputs": [
    {
     "name": "stdout",
     "output_type": "stream",
     "text": [
      "gallahad the pure\n",
      "robin the brave\n"
     ]
    }
   ],
   "source": [
    "\r\n",
    "knight = {'gallahad':'the pure', 'robin':'the brave'}\r\n",
    "for k, v in knight.items():\r\n",
    "    print(k,v)"
   ]
  },
  {
   "cell_type": "code",
   "execution_count": 29,
   "metadata": {},
   "outputs": [
    {
     "data": {
      "text/plain": [
       "'Ford'"
      ]
     },
     "execution_count": 29,
     "metadata": {},
     "output_type": "execute_result"
    }
   ],
   "source": [
    "thisdict = {'brand': 'Ford', \"electric\":False, \"year\":1964, \"colors\": ['red','white','blue']}\r\n",
    "thisdict['brand']"
   ]
  },
  {
   "cell_type": "code",
   "execution_count": 30,
   "metadata": {},
   "outputs": [
    {
     "data": {
      "text/plain": [
       "False"
      ]
     },
     "execution_count": 30,
     "metadata": {},
     "output_type": "execute_result"
    }
   ],
   "source": [
    "thisdict['electric']"
   ]
  },
  {
   "cell_type": "code",
   "execution_count": 31,
   "metadata": {},
   "outputs": [
    {
     "data": {
      "text/plain": [
       "'blue'"
      ]
     },
     "execution_count": 31,
     "metadata": {},
     "output_type": "execute_result"
    }
   ],
   "source": [
    "thisdict['colors'][2]"
   ]
  }
 ],
 "metadata": {
  "kernelspec": {
   "display_name": "Python 3.9.5 64-bit",
   "name": "python395jvsc74a57bd0e96f3d9d46cdefc766ed1dad262ce64f87c4240b59b297a62a5fcd113f6a3a34"
  },
  "language_info": {
   "codemirror_mode": {
    "name": "ipython",
    "version": 3
   },
   "file_extension": ".py",
   "mimetype": "text/x-python",
   "name": "python",
   "nbconvert_exporter": "python",
   "pygments_lexer": "ipython3",
   "version": "3.9.5"
  },
  "metadata": {
   "interpreter": {
    "hash": "e96f3d9d46cdefc766ed1dad262ce64f87c4240b59b297a62a5fcd113f6a3a34"
   }
  },
  "orig_nbformat": 2
 },
 "nbformat": 4,
 "nbformat_minor": 2
}