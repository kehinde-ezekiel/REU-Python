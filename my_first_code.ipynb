{
 "cells": [
  {
   "cell_type": "code",
   "execution_count": 13,
   "metadata": {},
   "outputs": [
    {
     "name": "stdout",
     "output_type": "stream",
     "text": [
      "1\n",
      "<class 'int'>\n",
      "100000000000000000000000000000000000000000000000001\n",
      "<class 'int'>\n"
     ]
    }
   ],
   "source": [
    "#integers\r\n",
    "x=1\r\n",
    "print(x)\r\n",
    "print(type(x))\r\n",
    "x = 100000000000000000000000000000000000000000000000001\r\n",
    "print(x)\r\n",
    "print(type(x))\r\n"
   ]
  },
  {
   "cell_type": "code",
   "execution_count": 12,
   "metadata": {},
   "outputs": [
    {
     "name": "stdout",
     "output_type": "stream",
     "text": [
      "22\n",
      "<class 'int'>\n"
     ]
    }
   ],
   "source": [
    "age = int(input('Plase enter your age: '))\r\n",
    "print(age)\r\n",
    "print(type(age))"
   ]
  },
  {
   "cell_type": "code",
   "execution_count": 7,
   "metadata": {},
   "outputs": [
    {
     "name": "stdout",
     "output_type": "stream",
     "text": [
      "1.83\n",
      "<class 'float'>\n"
     ]
    }
   ],
   "source": [
    "# Floating Points \r\n",
    "exchange_rate = 1.83\r\n",
    "print(exchange_rate)\r\n",
    "print(type(exchange_rate))"
   ]
  },
  {
   "cell_type": "code",
   "execution_count": 8,
   "metadata": {},
   "outputs": [
    {
     "name": "stdout",
     "output_type": "stream",
     "text": [
      "int value as a float: 1.0\n",
      "<class 'float'>\n",
      "string value as a float: 1.5\n",
      "<class 'float'>\n"
     ]
    }
   ],
   "source": [
    "# Converting to Floats\r\n",
    "int_value = 1\r\n",
    "string_value = '1.5'\r\n",
    "float_value = float(int_value)\r\n",
    "print('int value as a float:', float_value)\r\n",
    "print(type(float_value))\r\n",
    "float_value = float(string_value)\r\n",
    "print('string value as a float:', float_value)\r\n",
    "print(type(float_value))"
   ]
  },
  {
   "cell_type": "code",
   "execution_count": 9,
   "metadata": {},
   "outputs": [
    {
     "name": "stdout",
     "output_type": "stream",
     "text": [
      "5.0\n",
      "<class 'float'>\n"
     ]
    }
   ],
   "source": [
    "# Converting an Input String into a Floating Point Number\r\n",
    "exchange_rate = float(input('Please enter the exchange rate to use:'))\r\n",
    "print(exchange_rate)\r\n",
    "print(type(exchange_rate))"
   ]
  },
  {
   "cell_type": "code",
   "execution_count": 10,
   "metadata": {},
   "outputs": [
    {
     "name": "stdout",
     "output_type": "stream",
     "text": [
      "True\n",
      "False\n",
      "<class 'bool'>\n"
     ]
    }
   ],
   "source": [
    "# Boolean value\r\n",
    "all_ok = True\r\n",
    "print(all_ok)\r\n",
    "all_ok = False\r\n",
    "print(all_ok)\r\n",
    "print(type(all_ok))"
   ]
  },
  {
   "cell_type": "code",
   "execution_count": 11,
   "metadata": {},
   "outputs": [
    {
     "name": "stdout",
     "output_type": "stream",
     "text": [
      "False\n",
      "<class 'bool'>\n"
     ]
    }
   ],
   "source": [
    "# Convert string into Boolean\r\n",
    "status = bool(input('Ok to proceed:'))\r\n",
    "print(status)\r\n",
    "print(type(status))"
   ]
  }
 ],
 "metadata": {
  "kernelspec": {
   "display_name": "Python 3.9.5 64-bit",
   "name": "python395jvsc74a57bd0e96f3d9d46cdefc766ed1dad262ce64f87c4240b59b297a62a5fcd113f6a3a34"
  },
  "language_info": {
   "codemirror_mode": {
    "name": "ipython",
    "version": 3
   },
   "file_extension": ".py",
   "mimetype": "text/x-python",
   "name": "python",
   "nbconvert_exporter": "python",
   "pygments_lexer": "ipython3",
   "version": "3.9.5"
  },
  "metadata": {
   "interpreter": {
    "hash": "e96f3d9d46cdefc766ed1dad262ce64f87c4240b59b297a62a5fcd113f6a3a34"
   }
  },
  "orig_nbformat": 2
 },
 "nbformat": 4,
 "nbformat_minor": 2
}