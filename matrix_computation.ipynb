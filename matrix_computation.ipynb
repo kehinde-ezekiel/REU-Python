{
 "cells": [
  {
   "cell_type": "code",
   "execution_count": 5,
   "metadata": {},
   "outputs": [],
   "source": [
    "# import numpy library\r\n",
    "import numpy as np"
   ]
  },
  {
   "cell_type": "code",
   "execution_count": 6,
   "metadata": {},
   "outputs": [
    {
     "name": "stdout",
     "output_type": "stream",
     "text": [
      "[[1 5 6]\n",
      " [8 5 9]\n",
      " [1 8 3]] \n",
      "\n",
      "[[12 20 -3]\n",
      " [ 5 -8  5]\n",
      " [ 6  9 17]]\n"
     ]
    }
   ],
   "source": [
    "# Create two square matrix\r\n",
    "X = np.array([[1,5,6],[8,5,9],[1,8,3]])\r\n",
    "Z = np.array([[12,20,-3],[5,-8,5],[6,9,17]])\r\n",
    "print(X, \"\\n\")\r\n",
    "print(Z)"
   ]
  },
  {
   "cell_type": "code",
   "execution_count": 34,
   "metadata": {},
   "outputs": [
    {
     "name": "stdout",
     "output_type": "stream",
     "text": [
      "[[13 25  3]\n",
      " [13 -3 14]\n",
      " [ 7 17 20]] \n",
      "\n",
      "[[ True  True  True]\n",
      " [ True  True  True]\n",
      " [ True  True  True]]\n"
     ]
    }
   ],
   "source": [
    "# Add and subtract the matrices X and Z\r\n",
    "r_added = X.__add__(Z)\r\n",
    "r=subtract = X.__sub__(Z)\r\n",
    "print(r_added,\"\\n\")\r\n",
    "print(r==subtract)"
   ]
  },
  {
   "cell_type": "code",
   "execution_count": 30,
   "metadata": {},
   "outputs": [
    {
     "name": "stdout",
     "output_type": "stream",
     "text": [
      "[[ 12 100 -18]\n",
      " [ 40 -40  45]\n",
      " [  6  72  51]] \n",
      "\n",
      "[[ 73  34 124]\n",
      " [175 201 154]\n",
      " [ 70 -17  88]]\n"
     ]
    }
   ],
   "source": [
    "#piecewise multilplication  and multiplication of two matrices\r\n",
    "r_priecewise = X.__mul__(Z)\r\n",
    "r_mul = X.__matmul__(Z)\r\n",
    "print(r_priecewise,'\\n')\r\n",
    "print(r_mul)"
   ]
  },
  {
   "cell_type": "code",
   "execution_count": 14,
   "metadata": {},
   "outputs": [
    {
     "name": "stdout",
     "output_type": "stream",
     "text": [
      "[[ 1  1]\n",
      " [10 35]]\n",
      "[[ 2]\n",
      " [30]]\n"
     ]
    }
   ],
   "source": [
    "# create the matrix for chemist problem\r\n",
    "A = np.array([[1,1],[10,35]])\r\n",
    "b = np.array([[2],[30]])\r\n",
    "print(A)\r\n",
    "print(b)"
   ]
  },
  {
   "cell_type": "code",
   "execution_count": 15,
   "metadata": {},
   "outputs": [
    {
     "name": "stdout",
     "output_type": "stream",
     "text": [
      "dim. of matrix A =  (2, 2)\n",
      "dim. of vector b =  (2, 1)\n"
     ]
    }
   ],
   "source": [
    "# Verify the size of matrix A and size of vector b\r\n",
    "print('dim. of matrix A = ', A.shape)\r\n",
    "print('dim. of vector b = ',b.shape)"
   ]
  },
  {
   "cell_type": "code",
   "execution_count": 16,
   "metadata": {},
   "outputs": [
    {
     "data": {
      "text/plain": "25.000000000000007"
     },
     "execution_count": 16,
     "metadata": {},
     "output_type": "execute_result"
    }
   ],
   "source": [
    "# The det(A) 1=0 ?\r\n",
    "np.linalg.det(A)"
   ]
  },
  {
   "cell_type": "code",
   "execution_count": 17,
   "metadata": {},
   "outputs": [
    {
     "name": "stdout",
     "output_type": "stream",
     "text": [
      "[[ 1.4  -0.04]\n",
      " [-0.4   0.04]]\n"
     ]
    }
   ],
   "source": [
    "# Let's find the solution\r\n",
    "inv_A =np.linalg.inv(A)\r\n",
    "print(inv_A)"
   ]
  },
  {
   "cell_type": "code",
   "execution_count": 18,
   "metadata": {},
   "outputs": [
    {
     "name": "stdout",
     "output_type": "stream",
     "text": [
      "The solution is [[1.6]\n",
      " [0.4]]\n"
     ]
    }
   ],
   "source": [
    "# Finding the results\r\n",
    "x = inv_A.dot(b)\r\n",
    "print('The solution is',x)"
   ]
  },
  {
   "cell_type": "code",
   "execution_count": 20,
   "metadata": {},
   "outputs": [
    {
     "name": "stdout",
     "output_type": "stream",
     "text": [
      "Matrix B =\n",
      " [[ 1  2  6]\n",
      " [ 1 -1  4]\n",
      " [ 2  1  5]]\n",
      "vector b =\n",
      " [[ 8]\n",
      " [ 5]\n",
      " [13]]\n"
     ]
    }
   ],
   "source": [
    "# define the matix B\r\n",
    "B = np.array ([[1,2,6],[1,-1,4],[2,1,5]])\r\n",
    "b = np.array([[8],[5],[13]])\r\n",
    "print('Matrix B =\\n',B)\r\n",
    "print('vector b =\\n',b)"
   ]
  },
  {
   "cell_type": "code",
   "execution_count": 32,
   "metadata": {},
   "outputs": [
    {
     "name": "stdout",
     "output_type": "stream",
     "text": [
      "14.999999999999993\n"
     ]
    }
   ],
   "source": [
    "# computing the det. of B\r\n",
    "print(np. linalg.det(B))"
   ]
  },
  {
   "cell_type": "code",
   "execution_count": 22,
   "metadata": {},
   "outputs": [],
   "source": [
    "# find inverse\r\n",
    "inv_B = np.linalg.inv(B)"
   ]
  },
  {
   "cell_type": "code",
   "execution_count": 23,
   "metadata": {},
   "outputs": [
    {
     "name": "stdout",
     "output_type": "stream",
     "text": [
      "solution is  [[1 5 6]\n",
      " [8 5 9]\n",
      " [1 8 3]]\n"
     ]
    }
   ],
   "source": [
    "x = inv_B.dot(b)\r\n",
    "print('solution is ', X)"
   ]
  },
  {
   "cell_type": "code",
   "execution_count": 24,
   "metadata": {},
   "outputs": [
    {
     "name": "stdout",
     "output_type": "stream",
     "text": [
      "The equation 1 was satisfied\n"
     ]
    }
   ],
   "source": [
    "# checking your results \r\n",
    "x1 = 6\r\n",
    "x2 = 1\r\n",
    "x3 = 0\r\n",
    "if (x1+2*x2+6*x3==8):\r\n",
    "    print('The equation 1 was satisfied')\r\n",
    "else:\r\n",
    "    print('The equation 1 was not satisfied')"
   ]
  }
 ],
 "metadata": {
  "kernelspec": {
   "display_name": "Python 3.9.5 64-bit",
   "name": "python395jvsc74a57bd0e96f3d9d46cdefc766ed1dad262ce64f87c4240b59b297a62a5fcd113f6a3a34"
  },
  "language_info": {
   "codemirror_mode": {
    "name": "ipython",
    "version": 3
   },
   "file_extension": ".py",
   "mimetype": "text/x-python",
   "name": "python",
   "nbconvert_exporter": "python",
   "pygments_lexer": "ipython3",
   "version": "3.9.5"
  },
  "metadata": {
   "interpreter": {
    "hash": "e96f3d9d46cdefc766ed1dad262ce64f87c4240b59b297a62a5fcd113f6a3a34"
   }
  },
  "orig_nbformat": 2
 },
 "nbformat": 4,
 "nbformat_minor": 2
}