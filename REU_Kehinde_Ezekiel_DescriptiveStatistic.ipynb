{
  "nbformat": 4,
  "nbformat_minor": 0,
  "metadata": {
    "colab": {
      "name": "REU_Kehinde_Ezekiel_DescriptiveStatistic.ipynb",
      "provenance": [],
      "collapsed_sections": [],
      "authorship_tag": "ABX9TyOtXsl4rSdlCOSUkOcgalNa",
      "include_colab_link": true
    },
    "kernelspec": {
      "name": "python3",
      "display_name": "Python 3"
    },
    "language_info": {
      "name": "python"
    }
  },
  "cells": [
    {
      "cell_type": "markdown",
      "metadata": {
        "id": "view-in-github",
        "colab_type": "text"
      },
      "source": [
        "<a href=\"https://colab.research.google.com/github/kehinde-ezekiel/REU-Python/blob/main/REU_Kehinde_Ezekiel_DescriptiveStatistic.ipynb\" target=\"_parent\"><img src=\"https://colab.research.google.com/assets/colab-badge.svg\" alt=\"Open In Colab\"/></a>"
      ]
    },
    {
      "cell_type": "markdown",
      "metadata": {
        "id": "D9J5ZJ5xFS8l"
      },
      "source": [
        "##Assignment on Central Tendency\n",
        "\n",
        "1. Glucose Blood Level Data"
      ]
    },
    {
      "cell_type": "code",
      "metadata": {
        "id": "VAyaN3_1GG4R"
      },
      "source": [
        "#Create data using Pandas\n",
        "import pandas as pd\n",
        "data = pd.Series([45,66,83,71,76,64,59,59,76,82,80,81,85,77,82,90,87,72,79,69,83,71,87,69,81,76,96,83,67,94,101,94,89,94,73,99,93,85,83,80,78,80,85,83,84,74,81,70,65,89,70,80,84,77,65,46,80,70,75,45,101,71,109,73,73,80,72,81,63,74])"
      ],
      "execution_count": 18,
      "outputs": []
    },
    {
      "cell_type": "code",
      "metadata": {
        "colab": {
          "base_uri": "https://localhost:8080/"
        },
        "id": "lTUfboGPHLRC",
        "outputId": "780b4c38-8847-482a-cfa5-65a2ea3bd097"
      },
      "source": [
        "#Maximum and Minimum Values\n",
        "max_vale = data.max()\n",
        "min_vale = data.min()\n",
        "print('Maximum value=', max_vale, 'and Minimum value =', min_vale)"
      ],
      "execution_count": 19,
      "outputs": [
        {
          "output_type": "stream",
          "text": [
            "Maximum value= 109 and Minimum value = 45\n"
          ],
          "name": "stdout"
        }
      ]
    },
    {
      "cell_type": "code",
      "metadata": {
        "colab": {
          "base_uri": "https://localhost:8080/"
        },
        "id": "iMHiXWtkHrbF",
        "outputId": "eed05a06-89b2-450c-e1bb-678abf7e95cc"
      },
      "source": [
        "#Frequencies of the values\n",
        "data.value_counts()"
      ],
      "execution_count": 20,
      "outputs": [
        {
          "output_type": "execute_result",
          "data": {
            "text/plain": [
              "80     6\n",
              "83     5\n",
              "81     4\n",
              "94     3\n",
              "70     3\n",
              "71     3\n",
              "85     3\n",
              "73     3\n",
              "76     3\n",
              "77     2\n",
              "101    2\n",
              "59     2\n",
              "65     2\n",
              "69     2\n",
              "72     2\n",
              "74     2\n",
              "45     2\n",
              "82     2\n",
              "84     2\n",
              "87     2\n",
              "89     2\n",
              "78     1\n",
              "96     1\n",
              "46     1\n",
              "99     1\n",
              "63     1\n",
              "64     1\n",
              "93     1\n",
              "66     1\n",
              "67     1\n",
              "79     1\n",
              "90     1\n",
              "75     1\n",
              "109    1\n",
              "dtype: int64"
            ]
          },
          "metadata": {
            "tags": []
          },
          "execution_count": 20
        }
      ]
    },
    {
      "cell_type": "code",
      "metadata": {
        "colab": {
          "base_uri": "https://localhost:8080/"
        },
        "id": "b6G3fF0jMMix",
        "outputId": "cc764600-6d05-44cc-8ce4-3e3794953bfa"
      },
      "source": [
        "#Divide data into 5 classes and compute the frequency of each class\n",
        "frequency_classes = data.value_counts(sort=False,bins=5)\n",
        "frequency_classes"
      ],
      "execution_count": 21,
      "outputs": [
        {
          "output_type": "execute_result",
          "data": {
            "text/plain": [
              "(44.935, 57.8]     3\n",
              "(57.8, 70.6]      13\n",
              "(70.6, 83.4]      35\n",
              "(83.4, 96.2]      15\n",
              "(96.2, 109.0]      4\n",
              "dtype: int64"
            ]
          },
          "metadata": {
            "tags": []
          },
          "execution_count": 21
        }
      ]
    },
    {
      "cell_type": "code",
      "metadata": {
        "colab": {
          "base_uri": "https://localhost:8080/"
        },
        "id": "HOc72y5bMlws",
        "outputId": "4ae3e5bd-a251-4158-b74f-dc72fe7b793f"
      },
      "source": [
        "#Relative frequency\n",
        "relative_frequency = frequency_classes/len(data)\n",
        "relative_frequency"
      ],
      "execution_count": 22,
      "outputs": [
        {
          "output_type": "execute_result",
          "data": {
            "text/plain": [
              "(44.935, 57.8]    0.042857\n",
              "(57.8, 70.6]      0.185714\n",
              "(70.6, 83.4]      0.500000\n",
              "(83.4, 96.2]      0.214286\n",
              "(96.2, 109.0]     0.057143\n",
              "dtype: float64"
            ]
          },
          "metadata": {
            "tags": []
          },
          "execution_count": 22
        }
      ]
    },
    {
      "cell_type": "code",
      "metadata": {
        "id": "IGez-ZNpNIBG"
      },
      "source": [
        "#Accumulative frequency"
      ],
      "execution_count": 23,
      "outputs": []
    },
    {
      "cell_type": "code",
      "metadata": {
        "colab": {
          "base_uri": "https://localhost:8080/",
          "height": 282
        },
        "id": "zQedmKSZNQdf",
        "outputId": "1746e2ea-ff7f-4db4-90f8-21d44c842c83"
      },
      "source": [
        "data.hist()"
      ],
      "execution_count": 24,
      "outputs": [
        {
          "output_type": "execute_result",
          "data": {
            "text/plain": [
              "<matplotlib.axes._subplots.AxesSubplot at 0x7f181c6bd310>"
            ]
          },
          "metadata": {
            "tags": []
          },
          "execution_count": 24
        },
        {
          "output_type": "display_data",
          "data": {
            "image/png": "[encoded data removed]",
            "text/plain": [
              "<Figure size 432x288 with 1 Axes>"
            ]
          },
          "metadata": {
            "tags": [],
            "needs_background": "light"
          }
        }
      ]
    },
    {
      "cell_type": "markdown",
      "metadata": {
        "id": "kJJ1NtslNUii"
      },
      "source": [
        "##2. Computing the Measure of Central Tendency\n"
      ]
    },
    {
      "cell_type": "code",
      "metadata": {
        "colab": {
          "base_uri": "https://localhost:8080/"
        },
        "id": "Rc8otQEINeq8",
        "outputId": "f59cb02a-d5c9-4115-b3df-03f14edc7611"
      },
      "source": [
        "#Mode\n",
        "data.mode()"
      ],
      "execution_count": 25,
      "outputs": [
        {
          "output_type": "execute_result",
          "data": {
            "text/plain": [
              "0    80\n",
              "dtype: int64"
            ]
          },
          "metadata": {
            "tags": []
          },
          "execution_count": 25
        }
      ]
    },
    {
      "cell_type": "code",
      "metadata": {
        "colab": {
          "base_uri": "https://localhost:8080/"
        },
        "id": "IQBwSnv4NiC0",
        "outputId": "b1d5d03e-9fbd-4add-e569-4aa77e66e0b9"
      },
      "source": [
        "#median\n",
        "data.median()"
      ],
      "execution_count": 26,
      "outputs": [
        {
          "output_type": "execute_result",
          "data": {
            "text/plain": [
              "80.0"
            ]
          },
          "metadata": {
            "tags": []
          },
          "execution_count": 26
        }
      ]
    },
    {
      "cell_type": "code",
      "metadata": {
        "colab": {
          "base_uri": "https://localhost:8080/"
        },
        "id": "pbfxydnYNiMs",
        "outputId": "3a699b16-3246-48e1-d0e1-2ea9142da338"
      },
      "source": [
        "#mean\n",
        "data.mean()"
      ],
      "execution_count": 27,
      "outputs": [
        {
          "output_type": "execute_result",
          "data": {
            "text/plain": [
              "77.98571428571428"
            ]
          },
          "metadata": {
            "tags": []
          },
          "execution_count": 27
        }
      ]
    },
    {
      "cell_type": "code",
      "metadata": {
        "colab": {
          "base_uri": "https://localhost:8080/"
        },
        "id": "g3NF0EhzNigB",
        "outputId": "8e260e44-2be8-458f-bef7-cf1bbd3fec71"
      },
      "source": [
        "#standard deviation\n",
        "data.std()"
      ],
      "execution_count": 28,
      "outputs": [
        {
          "output_type": "execute_result",
          "data": {
            "text/plain": [
              "12.284658580478473"
            ]
          },
          "metadata": {
            "tags": []
          },
          "execution_count": 28
        }
      ]
    }
  ]
}